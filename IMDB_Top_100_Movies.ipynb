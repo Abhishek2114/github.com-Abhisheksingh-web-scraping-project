{
  "nbformat": 4,
  "nbformat_minor": 0,
  "metadata": {
    "colab": {
      "provenance": [],
      "authorship_tag": "ABX9TyNla46pq0ensmnxZ0rxnQO+",
      "include_colab_link": true
    },
    "kernelspec": {
      "name": "python3",
      "display_name": "Python 3"
    },
    "language_info": {
      "name": "python"
    }
  },
  "cells": [
    {
      "cell_type": "markdown",
      "metadata": {
        "id": "view-in-github",
        "colab_type": "text"
      },
      "source": [
        "<a href=\"https://colab.research.google.com/github/Abhishek2114/github.com-Abhisheksingh-web-scraping-project/blob/main/IMDB_Top_100_Movies.ipynb\" target=\"_parent\"><img src=\"https://colab.research.google.com/assets/colab-badge.svg\" alt=\"Open In Colab\"/></a>"
      ]
    },
    {
      "cell_type": "code",
      "execution_count": 21,
      "metadata": {
        "colab": {
          "base_uri": "https://localhost:8080/"
        },
        "id": "340Vivj8h0lm",
        "outputId": "2b97a6c4-5aba-427e-b550-4ad1837b3e3e"
      },
      "outputs": [
        {
          "output_type": "stream",
          "name": "stdout",
          "text": [
            "Shape: (1000, 8)\n",
            "\n",
            "Columns: ['Unnamed: 0', 'movie', 'year', 'time_minute', 'imdb_rating', 'metascore', 'vote', 'gross_earning']\n",
            "\n",
            "Summary:\n",
            "         Unnamed: 0                            movie         year  \\\n",
            "count   1000.000000                             1000  1000.000000   \n",
            "unique          NaN                              998          NaN   \n",
            "top             NaN  The Girl with the Dragon Tattoo          NaN   \n",
            "freq            NaN                                2          NaN   \n",
            "mean     499.500000                              NaN  1991.013000   \n",
            "std      288.819436                              NaN    23.059587   \n",
            "min        0.000000                              NaN  1920.000000   \n",
            "25%      249.750000                              NaN  1976.000000   \n",
            "50%      499.500000                              NaN  1998.500000   \n",
            "75%      749.250000                              NaN  2009.000000   \n",
            "max      999.000000                              NaN  2019.000000   \n",
            "\n",
            "        time_minute  imdb_rating   metascore          vote  gross_earning  \n",
            "count   1000.000000  1000.000000  835.000000  1.000000e+03     841.000000  \n",
            "unique          NaN          NaN         NaN           NaN            NaN  \n",
            "top             NaN          NaN         NaN           NaN            NaN  \n",
            "freq            NaN          NaN         NaN           NaN            NaN  \n",
            "mean     122.250000     7.943200   77.658683  2.659911e+05      68.737325  \n",
            "std       27.871856     0.277544   12.458936  3.144706e+05     109.255151  \n",
            "min       45.000000     7.600000   28.000000  2.518200e+04       0.000000  \n",
            "25%      102.000000     7.700000   70.000000  5.442525e+04       3.900000  \n",
            "50%      119.000000     7.900000   79.000000  1.368875e+05      24.790000  \n",
            "75%      136.000000     8.100000   87.000000  3.631140e+05      83.040000  \n",
            "max      321.000000     9.300000  100.000000  2.250445e+06     936.660000  \n"
          ]
        }
      ],
      "source": [
        "import pandas as pd\n",
        "\n",
        "df = pd.read_csv(\"movies.csv\")\n",
        "\n",
        "print(\"Shape:\", df.shape)\n",
        "print(\"\\nColumns:\", df.columns.tolist())\n",
        "print(\"\\nSummary:\")\n",
        "print(df.describe(include=\"all\"))"
      ]
    },
    {
      "cell_type": "code",
      "source": [
        "top10_imdb = df.sort_values(by=\"imdb_rating\", ascending=False).head(10)\n",
        "print(top10_imdb[[\"movie\", \"year\", \"imdb_rating\"]])"
      ],
      "metadata": {
        "colab": {
          "base_uri": "https://localhost:8080/"
        },
        "id": "4KrxR4muk29M",
        "outputId": "fdf035d1-76d0-40d6-e060-63603e05a181"
      },
      "execution_count": 15,
      "outputs": [
        {
          "output_type": "stream",
          "name": "stdout",
          "text": [
            "                                             movie  year  imdb_rating\n",
            "10                        The Shawshank Redemption  1994          9.3\n",
            "13                                   The Godfather  1972          9.2\n",
            "91                          The Godfather: Part II  1974          9.0\n",
            "18                                 The Dark Knight  2008          9.0\n",
            "60                                Schindler's List  1993          8.9\n",
            "48   The Lord of the Rings: The Return of the King  2003          8.9\n",
            "21                                    Pulp Fiction  1994          8.9\n",
            "152                                   12 Angry Men  1957          8.9\n",
            "77                  The Good, the Bad and the Ugly  1966          8.8\n",
            "12                                       Inception  2010          8.8\n"
          ]
        }
      ]
    },
    {
      "cell_type": "code",
      "source": [
        "top10_gross = df.sort_values(by=\"gross_earning\", ascending=False).head(10)\n",
        "print(top10_gross[[\"movie\", \"year\", \"gross_earning\"]])"
      ],
      "metadata": {
        "colab": {
          "base_uri": "https://localhost:8080/"
        },
        "id": "kPBMGuSPk5cB",
        "outputId": "df5e1381-90da-4470-cf58-6fd09f3b3788"
      },
      "execution_count": 16,
      "outputs": [
        {
          "output_type": "stream",
          "name": "stdout",
          "text": [
            "                                          movie  year  gross_earning\n",
            "179  Star Wars: Episode VII - The Force Awakens  2015         936.66\n",
            "6                             Avengers: Endgame  2019         858.37\n",
            "53                                       Avatar  2009         760.51\n",
            "34                       Avengers: Infinity War  2018         678.82\n",
            "24                                      Titanic  1997         659.33\n",
            "116                                The Avengers  2012         623.28\n",
            "287                               Incredibles 2  2018         608.58\n",
            "18                              The Dark Knight  2008         534.86\n",
            "147                Rogue One: A Star Wars Story  2016         532.18\n",
            "40                        The Dark Knight Rises  2012         448.14\n"
          ]
        }
      ]
    },
    {
      "cell_type": "code",
      "source": [
        "avg_rating_year = df.groupby(\"year\")[\"imdb_rating\"].mean().reset_index()\n",
        "print(avg_rating_year.head())"
      ],
      "metadata": {
        "colab": {
          "base_uri": "https://localhost:8080/"
        },
        "id": "JDuI2luFk8LC",
        "outputId": "e75fab0f-1541-4bcd-8551-6cc156b2cb31"
      },
      "execution_count": 17,
      "outputs": [
        {
          "output_type": "stream",
          "name": "stdout",
          "text": [
            "   year  imdb_rating\n",
            "0  1920          8.1\n",
            "1  1921          8.3\n",
            "2  1922          7.9\n",
            "3  1924          8.2\n",
            "4  1925          8.1\n"
          ]
        }
      ]
    },
    {
      "cell_type": "code",
      "source": [
        "df[\"decade\"] = (df[\"year\"] // 10) * 10\n",
        "top5_decade = df.sort_values([\"decade\", \"imdb_rating\"], ascending=[True, False]) \\\n",
        "                .groupby(\"decade\").head(5)\n",
        "\n",
        "for decade, group in top5_decade.groupby(\"decade\"):\n",
        "    print(f\"\\n--- {decade}s ---\")\n",
        "    print(group[[\"movie\", \"year\", \"imdb_rating\"]])"
      ],
      "metadata": {
        "colab": {
          "base_uri": "https://localhost:8080/"
        },
        "id": "4LAxsh4Yk-Cy",
        "outputId": "89f4a6eb-377a-4fbd-84ab-387e16085a2e"
      },
      "execution_count": 18,
      "outputs": [
        {
          "output_type": "stream",
          "name": "stdout",
          "text": [
            "\n",
            "--- 1920s ---\n",
            "                           movie  year  imdb_rating\n",
            "513                   Metropolis  1927          8.3\n",
            "846                      The Kid  1921          8.3\n",
            "895                The Gold Rush  1925          8.2\n",
            "966                 Sherlock Jr.  1924          8.2\n",
            "809  The Cabinet of Dr. Caligari  1920          8.1\n",
            "\n",
            "--- 1930s ---\n",
            "                     movie  year  imdb_rating\n",
            "609           Modern Times  1936          8.5\n",
            "720            City Lights  1931          8.5\n",
            "603                      M  1931          8.3\n",
            "243     Gone with the Wind  1939          8.1\n",
            "681  It Happened One Night  1934          8.1\n",
            "\n",
            "--- 1940s ---\n",
            "                     movie  year  imdb_rating\n",
            "415  It's a Wonderful Life  1946          8.6\n",
            "254             Casablanca  1942          8.5\n",
            "570     The Great Dictator  1940          8.4\n",
            "314           Citizen Kane  1941          8.3\n",
            "636       Double Indemnity  1944          8.3\n",
            "\n",
            "--- 1950s ---\n",
            "              movie  year  imdb_rating\n",
            "152    12 Angry Men  1957          8.9\n",
            "270   Seven Samurai  1954          8.6\n",
            "324     Rear Window  1954          8.4\n",
            "516    Sunset Blvd.  1950          8.4\n",
            "573  Paths of Glory  1957          8.4\n",
            "\n",
            "--- 1960s ---\n",
            "                              movie  year  imdb_rating\n",
            "77   The Good, the Bad and the Ugly  1966          8.8\n",
            "543                        Harakiri  1962          8.7\n",
            "105                          Psycho  1960          8.5\n",
            "269    Once Upon a Time in the West  1968          8.5\n",
            "754                    High and Low  1963          8.5\n",
            "\n",
            "--- 1970s ---\n",
            "                                  movie  year  imdb_rating\n",
            "13                        The Godfather  1972          9.2\n",
            "91               The Godfather: Part II  1974          9.0\n",
            "158     One Flew Over the Cuckoo's Nest  1975          8.7\n",
            "92   Star Wars: Episode IV - A New Hope  1977          8.6\n",
            "687                               Anand  1971          8.6\n",
            "\n",
            "--- 1980s ---\n",
            "                                              movie  year  imdb_rating\n",
            "198  Star Wars: Episode V - The Empire Strikes Back  1980          8.7\n",
            "11                               Back to the Future  1985          8.5\n",
            "399                          Grave of the Fireflies  1988          8.5\n",
            "433                                 Cinema Paradiso  1988          8.5\n",
            "65                                      The Shining  1980          8.4\n",
            "\n",
            "--- 1990s ---\n",
            "                       movie  year  imdb_rating\n",
            "10  The Shawshank Redemption  1994          9.3\n",
            "21              Pulp Fiction  1994          8.9\n",
            "60          Schindler's List  1993          8.9\n",
            "41              Forrest Gump  1994          8.8\n",
            "44                Fight Club  1999          8.8\n",
            "\n",
            "--- 2000s ---\n",
            "                                                movie  year  imdb_rating\n",
            "18                                    The Dark Knight  2008          9.0\n",
            "48      The Lord of the Rings: The Return of the King  2003          8.9\n",
            "8   The Lord of the Rings: The Fellowship of the Ring  2001          8.8\n",
            "83              The Lord of the Rings: The Two Towers  2002          8.7\n",
            "82                                      Spirited Away  2001          8.6\n",
            "\n",
            "--- 2010s ---\n",
            "                     movie  year  imdb_rating\n",
            "12               Inception  2010          8.8\n",
            "1                 Parasite  2019          8.6\n",
            "14            Interstellar  2014          8.6\n",
            "0                    Joker  2019          8.5\n",
            "34  Avengers: Infinity War  2018          8.5\n"
          ]
        }
      ]
    },
    {
      "cell_type": "code",
      "source": [
        "print(df[[\"imdb_rating\", \"metascore\", \"vote\", \"gross_earning\"]].corr())"
      ],
      "metadata": {
        "colab": {
          "base_uri": "https://localhost:8080/"
        },
        "id": "j1i8sp3Kk_ee",
        "outputId": "ba83175b-38fa-4e95-8a7b-3d04642f9e57"
      },
      "execution_count": 19,
      "outputs": [
        {
          "output_type": "stream",
          "name": "stdout",
          "text": [
            "               imdb_rating  metascore      vote  gross_earning\n",
            "imdb_rating       1.000000   0.266828  0.494340       0.101150\n",
            "metascore         0.266828   1.000000 -0.004803      -0.023444\n",
            "vote              0.494340  -0.004803  1.000000       0.570175\n",
            "gross_earning     0.101150  -0.023444  0.570175       1.000000\n"
          ]
        }
      ]
    },
    {
      "cell_type": "code",
      "source": [
        "df.to_excel(\"movies_with_decade.xlsx\", index=False)\n",
        "print(\"Saved to movies_with_decade.xlsx\")"
      ],
      "metadata": {
        "colab": {
          "base_uri": "https://localhost:8080/"
        },
        "id": "gRaUsZ7qlBAI",
        "outputId": "e153daaf-fb3c-42e5-acf7-e51c7bb55b80"
      },
      "execution_count": 20,
      "outputs": [
        {
          "output_type": "stream",
          "name": "stdout",
          "text": [
            "Saved to movies_with_decade.xlsx\n"
          ]
        }
      ]
    }
  ]
}